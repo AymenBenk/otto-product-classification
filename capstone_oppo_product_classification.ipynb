{
 "cells": [
  {
   "cell_type": "code",
   "execution_count": 22,
   "metadata": {},
   "outputs": [],
   "source": [
    "import numpy as np\n",
    "import pandas as pd\n",
    "import matplotlib.pyplot as plt\n",
    "from sklearn.externals import joblib\n",
    "from sklearn.preprocessing import LabelEncoder\n",
    "from sklearn.tree import DecisionTreeClassifier\n",
    "from sklearn.cross_validation import train_test_split\n",
    "from sklearn.cross_validation import StratifiedShuffleSplit\n",
    "from sklearn.metrics import accuracy_score\n",
    "from sklearn.metrics import log_loss\n",
    "from sklearn.ensemble import GradientBoostingClassifier\n",
    "from sklearn.decomposition import PCA\n",
    "from sklearn.manifold import TSNE\n",
    "from sklearn.svm import SVC\n",
    "from sklearn.gaussian_process import GaussianProcess\n",
    "from sklearn.ensemble import RandomForestClassifier\n",
    "from sklearn.neighbors import KNeighborsClassifier\n",
    "from sklearn.ensemble import GradientBoostingClassifier\n",
    "from sklearn.grid_search import GridSearchCV\n",
    "from sklearn.metrics import make_scorer\n",
    "from sklearn import cross_validation\n",
    "from sklearn.ensemble import AdaBoostClassifier\n",
    "from sklearn.ensemble import VotingClassifier\n",
    "from sklearn.metrics import confusion_matrix\n",
    "from seaborn import heatmap\n",
    "from random import randrange\n",
    "import time\n",
    "import os\n",
    "import itertools\n",
    "\n",
    "%matplotlib inline"
   ]
  },
  {
   "cell_type": "code",
   "execution_count": 23,
   "metadata": {},
   "outputs": [
    {
     "name": "stdout",
     "output_type": "stream",
     "text": [
      "Dataset has 61878 datapoints with 93 features\n"
     ]
    }
   ],
   "source": [
    "#Read the data file and separate the data into features and labels\n",
    "data = pd.read_csv('input/dataset.csv')\n",
    "\n",
    "data.drop(['id'], axis=1, inplace=True)\n",
    "\n",
    "labels = data['target']\n",
    "features = data.drop(['target'], axis=1)\n",
    "\n",
    "data.head()\n",
    "print('Dataset has {} datapoints with {} features'.format(*features.shape))"
   ]
  },
  {
   "cell_type": "markdown",
   "metadata": {},
   "source": [
    "# Data Exploration and Pre-Processing\n",
    "\n",
    "#### 1. Label encoding\n",
    "#### 2. Distribution of data in different classes\n",
    "#### 3. Statistics for each feature"
   ]
  },
  {
   "cell_type": "code",
   "execution_count": 24,
   "metadata": {},
   "outputs": [
    {
     "data": {
      "text/plain": [
       "array([0, 0, 0, 0, 0], dtype=int64)"
      ]
     },
     "execution_count": 24,
     "metadata": {},
     "output_type": "execute_result"
    }
   ],
   "source": [
    "#Label Encoder - Transform the target values into class labels from 0-8\n",
    "le = LabelEncoder()\n",
    "labels = le.fit_transform(labels)\n",
    "labels[0:5]"
   ]
  },
  {
   "cell_type": "code",
   "execution_count": 25,
   "metadata": {},
   "outputs": [
    {
     "data": {
      "text/plain": [
       "1    0.260545\n",
       "5    0.228433\n",
       "7    0.136785\n",
       "2    0.129351\n",
       "8    0.080077\n",
       "6    0.045881\n",
       "4    0.044265\n",
       "3    0.043489\n",
       "0    0.031174\n",
       "dtype: float64"
      ]
     },
     "execution_count": 25,
     "metadata": {},
     "output_type": "execute_result"
    },
    {
     "data": {
      "image/png": "[encoded data removed]",
      "text/plain": [
       "<matplotlib.figure.Figure at 0x1624dd1bef0>"
      ]
     },
     "metadata": {},
     "output_type": "display_data"
    }
   ],
   "source": [
    "#Distribution of data points in different classes\n",
    "ax = pd.Series(labels).value_counts().plot(kind='bar', grid=True)\n",
    "ax.set_xlabel(\"Class\")\n",
    "ax.set_ylabel(\"Count\")\n",
    "ax.get_figure().savefig(\"class_distribution.png\")\n",
    "pd.Series(labels).value_counts(normalize=True)"
   ]
  },
  {
   "cell_type": "code",
   "execution_count": 26,
   "metadata": {},
   "outputs": [],
   "source": [
    "#Statistical distribution of the dataset\n",
    "features_stats = features.describe().transpose()\n",
    "features_stats.to_csv('features_stats.csv')"
   ]
  },
  {
   "cell_type": "code",
   "execution_count": 43,
   "metadata": {},
   "outputs": [],
   "source": [
    "#Normalize features using log transformation\n",
    "features_log = features.apply(lambda x: np.log(x + 1))"
   ]
  },
  {
   "cell_type": "code",
   "execution_count": 28,
   "metadata": {},
   "outputs": [],
   "source": [
    "features_log_stats = features_log.describe()\n",
    "features_log_stats.to_csv('features_log_stats.csv')"
   ]
  },
  {
   "cell_type": "code",
   "execution_count": 29,
   "metadata": {},
   "outputs": [],
   "source": [
    "features_log.head().to_csv('features_log.csv')"
   ]
  },
  {
   "cell_type": "markdown",
   "metadata": {},
   "source": [
    "# Dimensionality Reduction using PCA"
   ]
  },
  {
   "cell_type": "code",
   "execution_count": 30,
   "metadata": {},
   "outputs": [],
   "source": [
    "pca = PCA(n_components=len(features_log.keys()))\n",
    "pca.fit(features_log)\n",
    "exp_var = pca.explained_variance_ratio_"
   ]
  },
  {
   "cell_type": "code",
   "execution_count": 42,
   "metadata": {},
   "outputs": [
    {
     "name": "stderr",
     "output_type": "stream",
     "text": [
      "C:\\Supriti\\PythonFolder\\Anaconda3\\lib\\site-packages\\ipykernel\\__main__.py:5: FutureWarning: pd.expanding_apply is deprecated for ndarrays and will be removed in a future version\n"
     ]
    }
   ],
   "source": [
    "# Get cumulative variance for successive principal components\n",
    "def sum_(x):\n",
    "    return sum(x)\n",
    "\n",
    "cum_var = pd.expanding_apply(exp_var, sum_)\n"
   ]
  },
  {
   "cell_type": "code",
   "execution_count": 32,
   "metadata": {},
   "outputs": [
    {
     "data": {
      "image/png": "[encoded data removed]",
      "text/plain": [
       "<matplotlib.figure.Figure at 0x1624df1d080>"
      ]
     },
     "metadata": {},
     "output_type": "display_data"
    }
   ],
   "source": [
    "plt.figure(figsize=(8, 4))\n",
    "plt.bar(range(93), exp_var, alpha=0.3, align='edge',label='Explained Variance %')\n",
    "plt.ylabel('Explained variance ratio')\n",
    "plt.xlabel('Principal Component')\n",
    "plt.xlim([0,94])\n",
    "plt.grid()\n",
    "plt.tight_layout()\n",
    "#ax.get_figure().savefig(\"PC_variance.png\")\n",
    "plt.savefig(\"PC_variance.png\")"
   ]
  },
  {
   "cell_type": "code",
   "execution_count": 33,
   "metadata": {},
   "outputs": [
    {
     "data": {
      "image/png": "[encoded data removed]",
      "text/plain": [
       "<matplotlib.figure.Figure at 0x1624dd8f358>"
      ]
     },
     "metadata": {},
     "output_type": "display_data"
    }
   ],
   "source": [
    "plt.figure(figsize=(8, 4))\n",
    "plt.step(range(93), cum_var, label='Explained Variance %')\n",
    "plt.ylabel('Cumulative explained variance (%)')\n",
    "plt.xlabel('Principal Component')\n",
    "plt.xlim([0,94])\n",
    "plt.grid()\n",
    "plt.tight_layout()\n",
    "plt.savefig(\"cum_variance.png\")"
   ]
  },
  {
   "cell_type": "markdown",
   "metadata": {},
   "source": [
    "### Split Training and Testing datasets"
   ]
  },
  {
   "cell_type": "code",
   "execution_count": 34,
   "metadata": {},
   "outputs": [
    {
     "name": "stdout",
     "output_type": "stream",
     "text": [
      "Number of training samples: 49502\n",
      "Number of test samples: 12376\n"
     ]
    }
   ],
   "source": [
    "sss = StratifiedShuffleSplit(y = labels, n_iter=1, test_size=0.20, random_state=0)\n",
    "len(sss)\n",
    "for train_ix, test_ix in sss:\n",
    "    train_x = features_log.loc[train_ix]\n",
    "    train_y = labels[train_ix]\n",
    "    test_x = features_log.loc[test_ix]\n",
    "    test_y = labels[test_ix]\n",
    "    print('Number of training samples: {}'.format(len(train_ix)))\n",
    "    print('Number of test samples: {}'.format(len(test_ix)))"
   ]
  },
  {
   "cell_type": "markdown",
   "metadata": {},
   "source": [
    "### Evaluation Metric : Log Loss Function"
   ]
  },
  {
   "cell_type": "code",
   "execution_count": 35,
   "metadata": {
    "collapsed": true
   },
   "outputs": [],
   "source": [
    "def log_loss_metric(y_true, y_pred):\n",
    "    loss = log_loss(y_true, y_pred)\n",
    "    return loss"
   ]
  },
  {
   "cell_type": "markdown",
   "metadata": {},
   "source": [
    "### Classification Models with original features"
   ]
  },
  {
   "cell_type": "code",
   "execution_count": 40,
   "metadata": {},
   "outputs": [],
   "source": [
    "#Function to train models using grid search cv\n",
    "def cv_model_train(model, parameters, file_name):\n",
    "    grid_obj = GridSearchCV(model, parameters, scoring='log_loss')\n",
    "    grid_fit = grid_obj.fit(train_x, train_y)\n",
    "    best_model = grid_fit.best_estimator_\n",
    "    pred = best_model.predict_proba(test_x)\n",
    "    print(log_loss_metric(test_y, pred))\n",
    "    joblib.dump(best_model, file_name)\n",
    "    return grid_fit"
   ]
  },
  {
   "cell_type": "code",
   "execution_count": 41,
   "metadata": {
    "collapsed": true
   },
   "outputs": [],
   "source": [
    "#Function to plot the model scores\n",
    "def plot_scores(scores, labels, max_y, save_file):\n",
    "    colors = ['#FFC300','#FF5733','#C70039', '#581845']\n",
    "    width=0.7\n",
    "    for i in range(len(scores)):\n",
    "        plt.bar(i+1, scores[i], width=width, color=colors[i], label=labels[i])\n",
    "    plt.legend(loc='best')\n",
    "    plt.xticks(np.arange(1, 5, 1))\n",
    "    plt.ylabel('Log Loss')\n",
    "    plt.xlabel('Model')\n",
    "    plt.ylim([0,max_y])\n",
    "    plt.grid()\n",
    "    plt.tight_layout()\n",
    "    plt.savefig(save_file)"
   ]
  },
  {
   "cell_type": "code",
   "execution_count": 26,
   "metadata": {},
   "outputs": [
    {
     "name": "stderr",
     "output_type": "stream",
     "text": [
      "C:\\Supriti\\PythonFolder\\Anaconda3\\lib\\site-packages\\sklearn\\metrics\\scorer.py:137: DeprecationWarning: Scoring method log_loss was renamed to neg_log_loss in version 0.18 and will be removed in 0.20.\n",
      "  sample_weight=sample_weight)\n",
      "C:\\Supriti\\PythonFolder\\Anaconda3\\lib\\site-packages\\sklearn\\metrics\\scorer.py:137: DeprecationWarning: Scoring method log_loss was renamed to neg_log_loss in version 0.18 and will be removed in 0.20.\n",
      "  sample_weight=sample_weight)\n",
      "C:\\Supriti\\PythonFolder\\Anaconda3\\lib\\site-packages\\sklearn\\metrics\\scorer.py:137: DeprecationWarning: Scoring method log_loss was renamed to neg_log_loss in version 0.18 and will be removed in 0.20.\n",
      "  sample_weight=sample_weight)\n",
      "C:\\Supriti\\PythonFolder\\Anaconda3\\lib\\site-packages\\sklearn\\metrics\\scorer.py:137: DeprecationWarning: Scoring method log_loss was renamed to neg_log_loss in version 0.18 and will be removed in 0.20.\n",
      "  sample_weight=sample_weight)\n",
      "C:\\Supriti\\PythonFolder\\Anaconda3\\lib\\site-packages\\sklearn\\metrics\\scorer.py:137: DeprecationWarning: Scoring method log_loss was renamed to neg_log_loss in version 0.18 and will be removed in 0.20.\n",
      "  sample_weight=sample_weight)\n",
      "C:\\Supriti\\PythonFolder\\Anaconda3\\lib\\site-packages\\sklearn\\metrics\\scorer.py:137: DeprecationWarning: Scoring method log_loss was renamed to neg_log_loss in version 0.18 and will be removed in 0.20.\n",
      "  sample_weight=sample_weight)\n",
      "C:\\Supriti\\PythonFolder\\Anaconda3\\lib\\site-packages\\sklearn\\metrics\\scorer.py:137: DeprecationWarning: Scoring method log_loss was renamed to neg_log_loss in version 0.18 and will be removed in 0.20.\n",
      "  sample_weight=sample_weight)\n",
      "C:\\Supriti\\PythonFolder\\Anaconda3\\lib\\site-packages\\sklearn\\metrics\\scorer.py:137: DeprecationWarning: Scoring method log_loss was renamed to neg_log_loss in version 0.18 and will be removed in 0.20.\n",
      "  sample_weight=sample_weight)\n",
      "C:\\Supriti\\PythonFolder\\Anaconda3\\lib\\site-packages\\sklearn\\metrics\\scorer.py:137: DeprecationWarning: Scoring method log_loss was renamed to neg_log_loss in version 0.18 and will be removed in 0.20.\n",
      "  sample_weight=sample_weight)\n",
      "C:\\Supriti\\PythonFolder\\Anaconda3\\lib\\site-packages\\sklearn\\metrics\\scorer.py:137: DeprecationWarning: Scoring method log_loss was renamed to neg_log_loss in version 0.18 and will be removed in 0.20.\n",
      "  sample_weight=sample_weight)\n",
      "C:\\Supriti\\PythonFolder\\Anaconda3\\lib\\site-packages\\sklearn\\metrics\\scorer.py:137: DeprecationWarning: Scoring method log_loss was renamed to neg_log_loss in version 0.18 and will be removed in 0.20.\n",
      "  sample_weight=sample_weight)\n",
      "C:\\Supriti\\PythonFolder\\Anaconda3\\lib\\site-packages\\sklearn\\metrics\\scorer.py:137: DeprecationWarning: Scoring method log_loss was renamed to neg_log_loss in version 0.18 and will be removed in 0.20.\n",
      "  sample_weight=sample_weight)\n"
     ]
    },
    {
     "name": "stdout",
     "output_type": "stream",
     "text": [
      "1.00876093612\n"
     ]
    }
   ],
   "source": [
    "#Random Forest\n",
    "parameters = {'n_estimators':[250, 400], 'max_depth':[7, 9]}\n",
    "clf_rf = RandomForestClassifier(min_samples_split=20, min_samples_leaf=10, random_state=0)\n",
    "grid_rf = cv_model_train(clf_rf, parameters, 'models/rf/rf1.pkl')"
   ]
  },
  {
   "cell_type": "code",
   "execution_count": 85,
   "metadata": {},
   "outputs": [
    {
     "data": {
      "image/png": "[encoded data removed]",
      "text/plain": [
       "<matplotlib.figure.Figure at 0x22c0033c9b0>"
      ]
     },
     "metadata": {},
     "output_type": "display_data"
    }
   ],
   "source": [
    "scores = [-x[1] for x in grid_rf.grid_scores_]\n",
    "labels = ['(250,7)', '(250,9)', '(400,7)', '(400,9)']\n",
    "plot_scores(scores, labels, 1.5, \"RF_cross_val.png\")"
   ]
  },
  {
   "cell_type": "code",
   "execution_count": 38,
   "metadata": {
    "scrolled": true
   },
   "outputs": [
    {
     "name": "stderr",
     "output_type": "stream",
     "text": [
      "C:\\Supriti\\PythonFolder\\Anaconda3\\lib\\site-packages\\sklearn\\metrics\\scorer.py:137: DeprecationWarning: Scoring method log_loss was renamed to neg_log_loss in version 0.18 and will be removed in 0.20.\n",
      "  sample_weight=sample_weight)\n",
      "C:\\Supriti\\PythonFolder\\Anaconda3\\lib\\site-packages\\sklearn\\metrics\\scorer.py:137: DeprecationWarning: Scoring method log_loss was renamed to neg_log_loss in version 0.18 and will be removed in 0.20.\n",
      "  sample_weight=sample_weight)\n",
      "C:\\Supriti\\PythonFolder\\Anaconda3\\lib\\site-packages\\sklearn\\metrics\\scorer.py:137: DeprecationWarning: Scoring method log_loss was renamed to neg_log_loss in version 0.18 and will be removed in 0.20.\n",
      "  sample_weight=sample_weight)\n",
      "C:\\Supriti\\PythonFolder\\Anaconda3\\lib\\site-packages\\sklearn\\metrics\\scorer.py:137: DeprecationWarning: Scoring method log_loss was renamed to neg_log_loss in version 0.18 and will be removed in 0.20.\n",
      "  sample_weight=sample_weight)\n",
      "C:\\Supriti\\PythonFolder\\Anaconda3\\lib\\site-packages\\sklearn\\metrics\\scorer.py:137: DeprecationWarning: Scoring method log_loss was renamed to neg_log_loss in version 0.18 and will be removed in 0.20.\n",
      "  sample_weight=sample_weight)\n",
      "C:\\Supriti\\PythonFolder\\Anaconda3\\lib\\site-packages\\sklearn\\metrics\\scorer.py:137: DeprecationWarning: Scoring method log_loss was renamed to neg_log_loss in version 0.18 and will be removed in 0.20.\n",
      "  sample_weight=sample_weight)\n",
      "C:\\Supriti\\PythonFolder\\Anaconda3\\lib\\site-packages\\sklearn\\metrics\\scorer.py:137: DeprecationWarning: Scoring method log_loss was renamed to neg_log_loss in version 0.18 and will be removed in 0.20.\n",
      "  sample_weight=sample_weight)\n",
      "C:\\Supriti\\PythonFolder\\Anaconda3\\lib\\site-packages\\sklearn\\metrics\\scorer.py:137: DeprecationWarning: Scoring method log_loss was renamed to neg_log_loss in version 0.18 and will be removed in 0.20.\n",
      "  sample_weight=sample_weight)\n",
      "C:\\Supriti\\PythonFolder\\Anaconda3\\lib\\site-packages\\sklearn\\metrics\\scorer.py:137: DeprecationWarning: Scoring method log_loss was renamed to neg_log_loss in version 0.18 and will be removed in 0.20.\n",
      "  sample_weight=sample_weight)\n",
      "C:\\Supriti\\PythonFolder\\Anaconda3\\lib\\site-packages\\sklearn\\metrics\\scorer.py:137: DeprecationWarning: Scoring method log_loss was renamed to neg_log_loss in version 0.18 and will be removed in 0.20.\n",
      "  sample_weight=sample_weight)\n",
      "C:\\Supriti\\PythonFolder\\Anaconda3\\lib\\site-packages\\sklearn\\metrics\\scorer.py:137: DeprecationWarning: Scoring method log_loss was renamed to neg_log_loss in version 0.18 and will be removed in 0.20.\n",
      "  sample_weight=sample_weight)\n",
      "C:\\Supriti\\PythonFolder\\Anaconda3\\lib\\site-packages\\sklearn\\metrics\\scorer.py:137: DeprecationWarning: Scoring method log_loss was renamed to neg_log_loss in version 0.18 and will be removed in 0.20.\n",
      "  sample_weight=sample_weight)\n"
     ]
    },
    {
     "name": "stdout",
     "output_type": "stream",
     "text": [
      "0.654566014399\n"
     ]
    }
   ],
   "source": [
    "knn_params = {'n_neighbors':[50, 100, 500, 1000]}\n",
    "clf_knn_best = KNeighborsClassifier(weights='distance')\n",
    "grid_knn = cv_model_train(clf_knn_best, knn_params, 'models/knn/knn_best.pkl')"
   ]
  },
  {
   "cell_type": "code",
   "execution_count": 86,
   "metadata": {},
   "outputs": [
    {
     "data": {
      "image/png": "[encoded data removed]",
      "text/plain": [
       "<matplotlib.figure.Figure at 0x22c0036b400>"
      ]
     },
     "metadata": {},
     "output_type": "display_data"
    }
   ],
   "source": [
    "scores = [-x[1] for x in grid_knn.grid_scores_]\n",
    "labels = ['50', '100', '500', '1000']\n",
    "plot_scores(scores, labels, 1, \"KNN_cross_val.png\")"
   ]
  },
  {
   "cell_type": "code",
   "execution_count": 14,
   "metadata": {
    "scrolled": false
   },
   "outputs": [
    {
     "name": "stderr",
     "output_type": "stream",
     "text": [
      "C:\\Supriti\\PythonFolder\\Anaconda3\\lib\\site-packages\\sklearn\\metrics\\scorer.py:137: DeprecationWarning: Scoring method log_loss was renamed to neg_log_loss in version 0.18 and will be removed in 0.20.\n",
      "  sample_weight=sample_weight)\n",
      "C:\\Supriti\\PythonFolder\\Anaconda3\\lib\\site-packages\\sklearn\\metrics\\scorer.py:137: DeprecationWarning: Scoring method log_loss was renamed to neg_log_loss in version 0.18 and will be removed in 0.20.\n",
      "  sample_weight=sample_weight)\n",
      "C:\\Supriti\\PythonFolder\\Anaconda3\\lib\\site-packages\\sklearn\\metrics\\scorer.py:137: DeprecationWarning: Scoring method log_loss was renamed to neg_log_loss in version 0.18 and will be removed in 0.20.\n",
      "  sample_weight=sample_weight)\n",
      "C:\\Supriti\\PythonFolder\\Anaconda3\\lib\\site-packages\\sklearn\\metrics\\scorer.py:137: DeprecationWarning: Scoring method log_loss was renamed to neg_log_loss in version 0.18 and will be removed in 0.20.\n",
      "  sample_weight=sample_weight)\n",
      "C:\\Supriti\\PythonFolder\\Anaconda3\\lib\\site-packages\\sklearn\\metrics\\scorer.py:137: DeprecationWarning: Scoring method log_loss was renamed to neg_log_loss in version 0.18 and will be removed in 0.20.\n",
      "  sample_weight=sample_weight)\n",
      "C:\\Supriti\\PythonFolder\\Anaconda3\\lib\\site-packages\\sklearn\\metrics\\scorer.py:137: DeprecationWarning: Scoring method log_loss was renamed to neg_log_loss in version 0.18 and will be removed in 0.20.\n",
      "  sample_weight=sample_weight)\n",
      "C:\\Supriti\\PythonFolder\\Anaconda3\\lib\\site-packages\\sklearn\\metrics\\scorer.py:137: DeprecationWarning: Scoring method log_loss was renamed to neg_log_loss in version 0.18 and will be removed in 0.20.\n",
      "  sample_weight=sample_weight)\n",
      "C:\\Supriti\\PythonFolder\\Anaconda3\\lib\\site-packages\\sklearn\\metrics\\scorer.py:137: DeprecationWarning: Scoring method log_loss was renamed to neg_log_loss in version 0.18 and will be removed in 0.20.\n",
      "  sample_weight=sample_weight)\n",
      "C:\\Supriti\\PythonFolder\\Anaconda3\\lib\\site-packages\\sklearn\\metrics\\scorer.py:137: DeprecationWarning: Scoring method log_loss was renamed to neg_log_loss in version 0.18 and will be removed in 0.20.\n",
      "  sample_weight=sample_weight)\n"
     ]
    },
    {
     "name": "stdout",
     "output_type": "stream",
     "text": [
      "1.07277794224\n"
     ]
    }
   ],
   "source": [
    "parameters_xgb = {'learning_rate':[0.5, 1, 1.5], 'min_samples_leaf': [10], 'max_depth':[9]}\n",
    "clf_xgb = GradientBoostingClassifier(random_state=0, n_estimators=300)\n",
    "grid_xgb = cv_model_train(clf_xgb, parameters_xgb, 'models/xgb_best/xgb.pkl')"
   ]
  },
  {
   "cell_type": "code",
   "execution_count": 20,
   "metadata": {},
   "outputs": [
    {
     "name": "stdout",
     "output_type": "stream",
     "text": [
      "[1.2239011575899816, 7.143574521726368, 33.06308829998048]\n"
     ]
    },
    {
     "data": {
      "image/png": "[encoded data removed]",
      "text/plain": [
       "<matplotlib.figure.Figure at 0x162479fcda0>"
      ]
     },
     "metadata": {},
     "output_type": "display_data"
    }
   ],
   "source": [
    "scores = [-x[1] for x in grid_xgb.grid_scores_]\n",
    "print(scores)\n",
    "labels = ['0.5', '1', '1.5']\n",
    "plot_scores(scores, labels, 40, \"XGB_cross_val.png\")"
   ]
  },
  {
   "cell_type": "code",
   "execution_count": 37,
   "metadata": {},
   "outputs": [
    {
     "name": "stderr",
     "output_type": "stream",
     "text": [
      "C:\\Supriti\\PythonFolder\\Anaconda3\\lib\\site-packages\\sklearn\\metrics\\scorer.py:137: DeprecationWarning: Scoring method log_loss was renamed to neg_log_loss in version 0.18 and will be removed in 0.20.\n",
      "  sample_weight=sample_weight)\n",
      "C:\\Supriti\\PythonFolder\\Anaconda3\\lib\\site-packages\\sklearn\\metrics\\scorer.py:137: DeprecationWarning: Scoring method log_loss was renamed to neg_log_loss in version 0.18 and will be removed in 0.20.\n",
      "  sample_weight=sample_weight)\n",
      "C:\\Supriti\\PythonFolder\\Anaconda3\\lib\\site-packages\\sklearn\\metrics\\scorer.py:137: DeprecationWarning: Scoring method log_loss was renamed to neg_log_loss in version 0.18 and will be removed in 0.20.\n",
      "  sample_weight=sample_weight)\n",
      "C:\\Supriti\\PythonFolder\\Anaconda3\\lib\\site-packages\\sklearn\\metrics\\scorer.py:137: DeprecationWarning: Scoring method log_loss was renamed to neg_log_loss in version 0.18 and will be removed in 0.20.\n",
      "  sample_weight=sample_weight)\n",
      "C:\\Supriti\\PythonFolder\\Anaconda3\\lib\\site-packages\\sklearn\\metrics\\scorer.py:137: DeprecationWarning: Scoring method log_loss was renamed to neg_log_loss in version 0.18 and will be removed in 0.20.\n",
      "  sample_weight=sample_weight)\n",
      "C:\\Supriti\\PythonFolder\\Anaconda3\\lib\\site-packages\\sklearn\\metrics\\scorer.py:137: DeprecationWarning: Scoring method log_loss was renamed to neg_log_loss in version 0.18 and will be removed in 0.20.\n",
      "  sample_weight=sample_weight)\n",
      "C:\\Supriti\\PythonFolder\\Anaconda3\\lib\\site-packages\\sklearn\\metrics\\scorer.py:137: DeprecationWarning: Scoring method log_loss was renamed to neg_log_loss in version 0.18 and will be removed in 0.20.\n",
      "  sample_weight=sample_weight)\n",
      "C:\\Supriti\\PythonFolder\\Anaconda3\\lib\\site-packages\\sklearn\\metrics\\scorer.py:137: DeprecationWarning: Scoring method log_loss was renamed to neg_log_loss in version 0.18 and will be removed in 0.20.\n",
      "  sample_weight=sample_weight)\n",
      "C:\\Supriti\\PythonFolder\\Anaconda3\\lib\\site-packages\\sklearn\\metrics\\scorer.py:137: DeprecationWarning: Scoring method log_loss was renamed to neg_log_loss in version 0.18 and will be removed in 0.20.\n",
      "  sample_weight=sample_weight)\n",
      "C:\\Supriti\\PythonFolder\\Anaconda3\\lib\\site-packages\\sklearn\\metrics\\scorer.py:137: DeprecationWarning: Scoring method log_loss was renamed to neg_log_loss in version 0.18 and will be removed in 0.20.\n",
      "  sample_weight=sample_weight)\n",
      "C:\\Supriti\\PythonFolder\\Anaconda3\\lib\\site-packages\\sklearn\\metrics\\scorer.py:137: DeprecationWarning: Scoring method log_loss was renamed to neg_log_loss in version 0.18 and will be removed in 0.20.\n",
      "  sample_weight=sample_weight)\n",
      "C:\\Supriti\\PythonFolder\\Anaconda3\\lib\\site-packages\\sklearn\\metrics\\scorer.py:137: DeprecationWarning: Scoring method log_loss was renamed to neg_log_loss in version 0.18 and will be removed in 0.20.\n",
      "  sample_weight=sample_weight)\n"
     ]
    },
    {
     "name": "stdout",
     "output_type": "stream",
     "text": [
      "2.08343502845\n"
     ]
    }
   ],
   "source": [
    "parameters_adb = {'learning_rate':[0.5, 1.5], 'n_estimators':[200,400]}\n",
    "clf_adb = AdaBoostClassifier(random_state=0)\n",
    "grid_adb = cv_model_train(clf_adb, parameters_adb, 'models/adb_best/adb.pkl')"
   ]
  },
  {
   "cell_type": "code",
   "execution_count": 88,
   "metadata": {},
   "outputs": [
    {
     "name": "stdout",
     "output_type": "stream",
     "text": [
      "[2.08136274127754, 2.1032094265246837, 2.0677723724318193, 2.0636890900634133]\n"
     ]
    },
    {
     "data": {
      "image/png": "[encoded data removed]",
      "text/plain": [
       "<matplotlib.figure.Figure at 0x22c00839e80>"
      ]
     },
     "metadata": {},
     "output_type": "display_data"
    }
   ],
   "source": [
    "scores = [-x[1] for x in grid_adb.grid_scores_]\n",
    "labels = ['(0.5,200)', '(0.5,400)', '(1.5,200)', '(1.5,400)']\n",
    "plot_scores(scores, labels, 2.5, \"ADB_cross_val.png\")\n",
    "print(scores)"
   ]
  },
  {
   "cell_type": "markdown",
   "metadata": {},
   "source": [
    "### Ensemble Learning"
   ]
  },
  {
   "cell_type": "code",
   "execution_count": 38,
   "metadata": {
    "collapsed": true
   },
   "outputs": [],
   "source": [
    "rf = joblib.load('models/rf/rf1.pkl')\n",
    "knn = joblib.load('models/knn/knn_best.pkl')\n",
    "xgb = joblib.load('models/xgb_best/xgb.pkl')\n",
    "adb = joblib.load('models/adb_best/adb.pkl')"
   ]
  },
  {
   "cell_type": "code",
   "execution_count": 40,
   "metadata": {},
   "outputs": [
    {
     "data": {
      "text/plain": [
       "VotingClassifier(estimators=[('rf', RandomForestClassifier(bootstrap=True, class_weight=None, criterion='gini',\n",
       "            max_depth=9, max_features='auto', max_leaf_nodes=None,\n",
       "            min_impurity_decrease=0.0, min_impurity_split=None,\n",
       "            min_samples_leaf=10, min_samples_split=20,\n",
       "            min_wei...         presort='auto', random_state=0, subsample=1.0, verbose=0,\n",
       "              warm_start=False))],\n",
       "         flatten_transform=None, n_jobs=1, voting='soft',\n",
       "         weights=[1, 1, 1])"
      ]
     },
     "execution_count": 40,
     "metadata": {},
     "output_type": "execute_result"
    }
   ],
   "source": [
    "eclf1 = VotingClassifier(estimators=[('rf', rf), ('knn', knn), ('xgb', xgb)], voting='soft', weights=[1,1,1])\n",
    "eclf1.fit(train_x, train_y)"
   ]
  },
  {
   "cell_type": "code",
   "execution_count": 41,
   "metadata": {},
   "outputs": [
    {
     "name": "stdout",
     "output_type": "stream",
     "text": [
      "0.618313107235\n"
     ]
    }
   ],
   "source": [
    "eclf1_pred =eclf1.predict_proba(test_x)\n",
    "print(log_loss_metric(test_y, eclf1_pred))"
   ]
  },
  {
   "cell_type": "code",
   "execution_count": 42,
   "metadata": {},
   "outputs": [
    {
     "data": {
      "text/plain": [
       "['models/ensemble/eclf1.pkl']"
      ]
     },
     "execution_count": 42,
     "metadata": {},
     "output_type": "execute_result"
    }
   ],
   "source": [
    "joblib.dump(eclf1, 'models/ensemble/eclf1.pkl')"
   ]
  },
  {
   "cell_type": "code",
   "execution_count": 37,
   "metadata": {},
   "outputs": [
    {
     "data": {
      "text/plain": [
       "VotingClassifier(estimators=[('rf', RandomForestClassifier(bootstrap=True, class_weight=None, criterion='gini',\n",
       "            max_depth=9, max_features='auto', max_leaf_nodes=None,\n",
       "            min_impurity_decrease=0.0, min_impurity_split=None,\n",
       "            min_samples_leaf=10, min_samples_split=20,\n",
       "            min_wei...         presort='auto', random_state=0, subsample=1.0, verbose=0,\n",
       "              warm_start=False))],\n",
       "         flatten_transform=None, n_jobs=1, voting='soft',\n",
       "         weights=[1, 2, 1])"
      ]
     },
     "execution_count": 37,
     "metadata": {},
     "output_type": "execute_result"
    }
   ],
   "source": [
    "eclf2 = VotingClassifier(estimators=[('rf', rf), ('knn', knn), ('xgb', xgb)], voting='soft', weights=[1,2,1])\n",
    "eclf2.fit(train_x, train_y)"
   ]
  },
  {
   "cell_type": "code",
   "execution_count": 38,
   "metadata": {},
   "outputs": [
    {
     "name": "stdout",
     "output_type": "stream",
     "text": [
      "0.602342956849\n"
     ]
    }
   ],
   "source": [
    "#eclf2 = joblib.load('models/ensemble/eclf2.pkl')\n",
    "eclf2_pred =eclf2.predict_proba(test_x)\n",
    "print(log_loss_metric(test_y, eclf2_pred))"
   ]
  },
  {
   "cell_type": "code",
   "execution_count": 93,
   "metadata": {},
   "outputs": [
    {
     "data": {
      "text/plain": [
       "['models/ensemble/eclf2.pkl']"
      ]
     },
     "execution_count": 93,
     "metadata": {},
     "output_type": "execute_result"
    }
   ],
   "source": [
    "joblib.dump(eclf2, 'models/ensemble/eclf2.pkl')"
   ]
  },
  {
   "cell_type": "code",
   "execution_count": 94,
   "metadata": {},
   "outputs": [
    {
     "data": {
      "text/plain": [
       "VotingClassifier(estimators=[('rf', RandomForestClassifier(bootstrap=True, class_weight=None, criterion='gini',\n",
       "            max_depth=9, max_features='auto', max_leaf_nodes=None,\n",
       "            min_impurity_decrease=0.0, min_impurity_split=None,\n",
       "            min_samples_leaf=10, min_samples_split=20,\n",
       "            min_wei...         presort='auto', random_state=0, subsample=1.0, verbose=0,\n",
       "              warm_start=False))],\n",
       "         flatten_transform=None, n_jobs=1, voting='soft',\n",
       "         weights=[2, 4, 1])"
      ]
     },
     "execution_count": 94,
     "metadata": {},
     "output_type": "execute_result"
    }
   ],
   "source": [
    "eclf3 = VotingClassifier(estimators=[('rf', rf), ('knn', knn), ('xgb', xgb)], voting='soft', weights=[2,4,1])\n",
    "eclf3.fit(train_x, train_y)"
   ]
  },
  {
   "cell_type": "code",
   "execution_count": 95,
   "metadata": {},
   "outputs": [
    {
     "name": "stdout",
     "output_type": "stream",
     "text": [
      "0.633169358723\n"
     ]
    }
   ],
   "source": [
    "eclf3_pred =eclf3.predict_proba(test_x)\n",
    "print(log_loss_metric(test_y, eclf3_pred))"
   ]
  },
  {
   "cell_type": "code",
   "execution_count": 96,
   "metadata": {},
   "outputs": [
    {
     "data": {
      "text/plain": [
       "['models/ensemble/eclf3.pkl']"
      ]
     },
     "execution_count": 96,
     "metadata": {},
     "output_type": "execute_result"
    }
   ],
   "source": [
    "joblib.dump(eclf3, 'models/ensemble/eclf3.pkl')"
   ]
  },
  {
   "cell_type": "code",
   "execution_count": 98,
   "metadata": {},
   "outputs": [
    {
     "data": {
      "text/plain": [
       "VotingClassifier(estimators=[('rf', RandomForestClassifier(bootstrap=True, class_weight=None, criterion='gini',\n",
       "            max_depth=9, max_features='auto', max_leaf_nodes=None,\n",
       "            min_impurity_decrease=0.0, min_impurity_split=None,\n",
       "            min_samples_leaf=10, min_samples_split=20,\n",
       "            min_wei...thm='SAMME.R', base_estimator=None,\n",
       "          learning_rate=1.5, n_estimators=400, random_state=0))],\n",
       "         flatten_transform=None, n_jobs=1, voting='soft',\n",
       "         weights=[1, 2, 1, 0.5])"
      ]
     },
     "execution_count": 98,
     "metadata": {},
     "output_type": "execute_result"
    }
   ],
   "source": [
    "eclf4 = VotingClassifier(estimators=[('rf', rf), ('knn', knn), ('xgb', xgb), ('adb', adb)], voting='soft', weights=[1,2,1, 0.5])\n",
    "eclf4.fit(train_x, train_y)"
   ]
  },
  {
   "cell_type": "code",
   "execution_count": 99,
   "metadata": {},
   "outputs": [
    {
     "name": "stdout",
     "output_type": "stream",
     "text": [
      "0.681799381104\n"
     ]
    }
   ],
   "source": [
    "eclf4_pred =eclf4.predict_proba(test_x)\n",
    "print(log_loss_metric(test_y, eclf4_pred))"
   ]
  },
  {
   "cell_type": "code",
   "execution_count": 100,
   "metadata": {},
   "outputs": [
    {
     "data": {
      "text/plain": [
       "['models/ensemble/eclf4.pkl']"
      ]
     },
     "execution_count": 100,
     "metadata": {},
     "output_type": "execute_result"
    }
   ],
   "source": [
    "joblib.dump(eclf4, 'models/ensemble/eclf4.pkl')"
   ]
  },
  {
   "cell_type": "code",
   "execution_count": 18,
   "metadata": {},
   "outputs": [
    {
     "data": {
      "text/plain": [
       "VotingClassifier(estimators=[('rf', RandomForestClassifier(bootstrap=True, class_weight=None, criterion='gini',\n",
       "            max_depth=9, max_features='auto', max_leaf_nodes=None,\n",
       "            min_impurity_decrease=0.0, min_impurity_split=None,\n",
       "            min_samples_leaf=10, min_samples_split=20,\n",
       "            min_wei...thm='SAMME.R', base_estimator=None,\n",
       "          learning_rate=1.5, n_estimators=400, random_state=0))],\n",
       "         flatten_transform=None, n_jobs=1, voting='soft',\n",
       "         weights=[1, 1, 1, 1])"
      ]
     },
     "execution_count": 18,
     "metadata": {},
     "output_type": "execute_result"
    }
   ],
   "source": [
    "eclf5 = VotingClassifier(estimators=[('rf', rf), ('knn', knn), ('xgb', xgb), ('adb', adb)], voting='soft', weights=[1,1,1,1])\n",
    "eclf5.fit(train_x, train_y)"
   ]
  },
  {
   "cell_type": "code",
   "execution_count": 19,
   "metadata": {},
   "outputs": [
    {
     "name": "stdout",
     "output_type": "stream",
     "text": [
      "0.809912065425\n"
     ]
    },
    {
     "data": {
      "text/plain": [
       "['models/ensemble/eclf5.pkl']"
      ]
     },
     "execution_count": 19,
     "metadata": {},
     "output_type": "execute_result"
    }
   ],
   "source": [
    "eclf5_pred =eclf5.predict_proba(test_x)\n",
    "print(log_loss_metric(test_y, eclf5_pred))\n",
    "joblib.dump(eclf5, 'models/ensemble/eclf5.pkl')"
   ]
  },
  {
   "cell_type": "code",
   "execution_count": 20,
   "metadata": {},
   "outputs": [
    {
     "data": {
      "text/plain": [
       "VotingClassifier(estimators=[('rf', RandomForestClassifier(bootstrap=True, class_weight=None, criterion='gini',\n",
       "            max_depth=9, max_features='auto', max_leaf_nodes=None,\n",
       "            min_impurity_decrease=0.0, min_impurity_split=None,\n",
       "            min_samples_leaf=10, min_samples_split=20,\n",
       "            min_wei...ki',\n",
       "           metric_params=None, n_jobs=1, n_neighbors=100, p=2,\n",
       "           weights='distance'))],\n",
       "         flatten_transform=None, n_jobs=1, voting='soft', weights=[1, 2])"
      ]
     },
     "execution_count": 20,
     "metadata": {},
     "output_type": "execute_result"
    }
   ],
   "source": [
    "eclf6 = VotingClassifier(estimators=[('rf', rf), ('knn', knn)], voting='soft', weights=[1,2])\n",
    "eclf6.fit(train_x, train_y)"
   ]
  },
  {
   "cell_type": "code",
   "execution_count": 21,
   "metadata": {},
   "outputs": [
    {
     "name": "stdout",
     "output_type": "stream",
     "text": [
      "0.688280394782\n"
     ]
    },
    {
     "data": {
      "text/plain": [
       "['models/ensemble/eclf6.pkl']"
      ]
     },
     "execution_count": 21,
     "metadata": {},
     "output_type": "execute_result"
    }
   ],
   "source": [
    "eclf6_pred =eclf6.predict_proba(test_x)\n",
    "print(log_loss_metric(test_y, eclf6_pred))\n",
    "joblib.dump(eclf6, 'models/ensemble/eclf6.pkl')"
   ]
  },
  {
   "cell_type": "code",
   "execution_count": 35,
   "metadata": {},
   "outputs": [
    {
     "data": {
      "image/png": "[encoded data removed]",
      "text/plain": [
       "<matplotlib.figure.Figure at 0x28bd030fda0>"
      ]
     },
     "metadata": {},
     "output_type": "display_data"
    }
   ],
   "source": [
    "ensemble_scores = [0.6183,0.6023,0.6332,0.6818,0.8010,0.6883]\n",
    "cat = [1,2,3,4,5,6]\n",
    "colors = ['#FFC300',\"#CC6600\",'#FF5733',\"#FF6666\",'#C70039', '#581845']\n",
    "width=0.7\n",
    "labels=['Model 1', 'Model 2', 'Model 3', 'Model 4', 'Model 5', 'Model 6']\n",
    "for i in range(len(ensemble_scores)):\n",
    "    plt.bar(i+1, ensemble_scores[i], width=width, color=colors[i], label=labels[i])\n",
    "plt.legend(loc='upper center')\n",
    "plt.xticks(np.arange(1, 8, 1))\n",
    "plt.ylabel('Log Loss Score')\n",
    "plt.xlabel('Model')\n",
    "plt.ylim([0,1.3])\n",
    "plt.grid()\n",
    "plt.tight_layout()\n",
    "plt.savefig('ensemble_scores.png')\n"
   ]
  },
  {
   "cell_type": "markdown",
   "metadata": {},
   "source": [
    "## Confusion Matrix"
   ]
  },
  {
   "cell_type": "code",
   "execution_count": 51,
   "metadata": {},
   "outputs": [],
   "source": [
    "y_pred = np.argmax(eclf2_pred, axis=1)\n",
    "cnf_matrix=confusion_matrix(test_y, y_pred)"
   ]
  },
  {
   "cell_type": "code",
   "execution_count": 56,
   "metadata": {},
   "outputs": [],
   "source": [
    "def plot_confusion_matrix(cm, classes,\n",
    "                          normalize=False,\n",
    "                          title='Confusion matrix',\n",
    "                          cmap=plt.cm.Blues):\n",
    "    \"\"\"\n",
    "    This function prints and plots the confusion matrix.\n",
    "    Normalization can be applied by setting `normalize=True`.\n",
    "    \"\"\"\n",
    "    if normalize:\n",
    "        cm = cm.astype('float') / cm.sum(axis=1)[:, np.newaxis]\n",
    "        print(\"Normalized confusion matrix\")\n",
    "    else:\n",
    "        print('Confusion matrix, without normalization')\n",
    "\n",
    "    print(cm)\n",
    "\n",
    "    plt.imshow(cm, interpolation='nearest', cmap=cmap)\n",
    "    plt.title(title)\n",
    "    plt.colorbar()\n",
    "    tick_marks = np.arange(len(classes))\n",
    "    plt.xticks(tick_marks, classes, rotation=45)\n",
    "    plt.yticks(tick_marks, classes)\n",
    "\n",
    "    fmt = '.2f' if normalize else 'd'\n",
    "    thresh = cm.max() / 2.\n",
    "    for i, j in itertools.product(range(cm.shape[0]), range(cm.shape[1])):\n",
    "        plt.text(j, i, format(cm[i, j], fmt),\n",
    "                 horizontalalignment=\"center\",\n",
    "                 color=\"white\" if cm[i, j] > thresh else \"black\")\n",
    "\n",
    "    plt.tight_layout()\n",
    "    plt.ylabel('True label')\n",
    "    plt.xlabel('Predicted label')"
   ]
  },
  {
   "cell_type": "code",
   "execution_count": 58,
   "metadata": {},
   "outputs": [
    {
     "name": "stdout",
     "output_type": "stream",
     "text": [
      "Normalized confusion matrix\n",
      "[[  3.96373057e-01   6.21761658e-02   5.18134715e-03   0.00000000e+00\n",
      "    1.03626943e-02   8.54922280e-02   2.07253886e-02   1.76165803e-01\n",
      "    2.43523316e-01]\n",
      " [  0.00000000e+00   8.96712159e-01   9.08808933e-02   3.10173697e-03\n",
      "    2.17121588e-03   2.17121588e-03   3.41191067e-03   3.10173697e-04\n",
      "    1.24069479e-03]\n",
      " [  6.24609619e-04   5.49031855e-01   4.18488445e-01   1.18675828e-02\n",
      "    0.00000000e+00   6.24609619e-04   1.56152405e-02   2.49843848e-03\n",
      "    1.24921924e-03]\n",
      " [  0.00000000e+00   4.73977695e-01   1.41263941e-01   3.38289963e-01\n",
      "    5.57620818e-03   2.41635688e-02   1.30111524e-02   1.85873606e-03\n",
      "    1.85873606e-03]\n",
      " [  0.00000000e+00   2.55474453e-02   1.82481752e-03   0.00000000e+00\n",
      "    9.63503650e-01   3.64963504e-03   1.82481752e-03   0.00000000e+00\n",
      "    3.64963504e-03]\n",
      " [  2.12239123e-03   1.83940573e-02   7.07463742e-04   7.07463742e-04\n",
      "    1.06119561e-03   9.37035727e-01   1.20268836e-02   1.37955430e-02\n",
      "    1.41492748e-02]\n",
      " [  1.05633803e-02   1.74295775e-01   6.51408451e-02   1.23239437e-02\n",
      "    7.04225352e-03   6.86619718e-02   5.79225352e-01   7.21830986e-02\n",
      "    1.05633803e-02]\n",
      " [  8.86001181e-03   1.47666864e-02   4.13467218e-03   0.00000000e+00\n",
      "    1.18133491e-03   3.89840520e-02   3.54400473e-03   9.11990549e-01\n",
      "    1.65386887e-02]\n",
      " [  1.10998991e-02   3.43087790e-02   0.00000000e+00   0.00000000e+00\n",
      "    4.03632694e-03   2.21997982e-02   3.02724521e-03   3.93541877e-02\n",
      "    8.85973764e-01]]\n"
     ]
    },
    {
     "data": {
      "image/png": "[encoded data removed]",
      "text/plain": [
       "<matplotlib.figure.Figure at 0x28b836ba240>"
      ]
     },
     "metadata": {},
     "output_type": "display_data"
    }
   ],
   "source": [
    "class_names = [i for i in range(0,9)]\n",
    "plt.figure()\n",
    "plot_confusion_matrix(cnf_matrix, classes=class_names, normalize=True,\n",
    "                      title='Normalized confusion matrix')\n",
    "plt.savefig('confusion_matrix.png')\n",
    "plt.show()"
   ]
  },
  {
   "cell_type": "markdown",
   "metadata": {},
   "source": [
    "### Benchmark Model\n",
    "\n",
    "#### Worst Case: Random Guess - Naive classifier\n"
   ]
  },
  {
   "cell_type": "code",
   "execution_count": 39,
   "metadata": {},
   "outputs": [
    {
     "name": "stdout",
     "output_type": "stream",
     "text": [
      "Log loss with randomly classifying a product into different categories is 30.528844438140307\n"
     ]
    }
   ],
   "source": [
    "#Evaluating a 'Naive' classifier\n",
    "num_of_samples = len(labels)\n",
    "random_pred = []\n",
    "\n",
    "for i in range(num_of_samples):\n",
    "    pred = np.zeros((9))\n",
    "    pred[randrange(0,8)]=1.0\n",
    "    random_pred.append(pred)\n",
    "\n",
    "rand_guess_loss = log_loss_metric(labels, random_pred)\n",
    "print(\"Log loss with randomly classifying a product into different categories is {}\".format(rand_guess_loss))"
   ]
  },
  {
   "cell_type": "code",
   "execution_count": null,
   "metadata": {
    "collapsed": true
   },
   "outputs": [],
   "source": []
  }
 ],
 "metadata": {
  "anaconda-cloud": {},
  "kernelspec": {
   "display_name": "Python 3",
   "language": "python",
   "name": "python3"
  },
  "language_info": {
   "codemirror_mode": {
    "name": "ipython",
    "version": 3
   },
   "file_extension": ".py",
   "mimetype": "text/x-python",
   "name": "python",
   "nbconvert_exporter": "python",
   "pygments_lexer": "ipython3",
   "version": "3.6.5"
  }
 },
 "nbformat": 4,
 "nbformat_minor": 2
}
